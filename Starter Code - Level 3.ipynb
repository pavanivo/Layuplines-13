{
 "cells": [
  {
   "cell_type": "markdown",
   "metadata": {},
   "source": [
    "# Modelling Titanic Survivorship\n",
    "\n",
    "For today's layup lines, you will be using a dataset that originated from Kaggle. We will not be entering the competition, but this will act as a solid checkpoint of where you are at in the data science workflow. After today, you will have a good idea of the areas that you excel at and need some review. All-in-all, this exercise will be a great benchmark of your progress."
   ]
  },
  {
   "cell_type": "markdown",
   "metadata": {},
   "source": [
    "Task: Create a modeling process that predicts titanic survivorship. Use accuracy as the evaluation metric. Complete the following in the process:\n",
    "1. Data preprocessing\n",
    "2. EDA\n",
    "3. Feature engineering\n",
    "4. Feature selection\n",
    "5. Standardization?\n",
    "6. Build model\n",
    "7. Tune hyperparameters\n",
    "8. Cross validate you model\n",
    "9. Final accuracy score\n",
    "10. Revisit how to lower score"
   ]
  },
  {
   "cell_type": "code",
   "execution_count": null,
   "metadata": {},
   "outputs": [],
   "source": []
  }
 ],
 "metadata": {
  "kernelspec": {
   "display_name": "Python 3",
   "language": "python",
   "name": "python3"
  },
  "language_info": {
   "codemirror_mode": {
    "name": "ipython",
    "version": 3
   },
   "file_extension": ".py",
   "mimetype": "text/x-python",
   "name": "python",
   "nbconvert_exporter": "python",
   "pygments_lexer": "ipython3",
   "version": "3.7.3"
  }
 },
 "nbformat": 4,
 "nbformat_minor": 2
}
